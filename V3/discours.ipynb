{
 "cells": [
  {
   "cell_type": "code",
   "execution_count": 12,
   "metadata": {},
   "outputs": [
    {
     "data": {
      "text/html": [
       "<div>\n",
       "<style scoped>\n",
       "    .dataframe tbody tr th:only-of-type {\n",
       "        vertical-align: middle;\n",
       "    }\n",
       "\n",
       "    .dataframe tbody tr th {\n",
       "        vertical-align: top;\n",
       "    }\n",
       "\n",
       "    .dataframe thead th {\n",
       "        text-align: right;\n",
       "    }\n",
       "</style>\n",
       "<table border=\"1\" class=\"dataframe\">\n",
       "  <thead>\n",
       "    <tr style=\"text-align: right;\">\n",
       "      <th></th>\n",
       "      <th>speaker</th>\n",
       "      <th>text</th>\n",
       "      <th>date</th>\n",
       "      <th>descr</th>\n",
       "      <th>link</th>\n",
       "    </tr>\n",
       "  </thead>\n",
       "  <tbody>\n",
       "    <tr>\n",
       "      <th>0</th>\n",
       "      <td>CLINTON</td>\n",
       "      <td>: I'm getting ready for a lot of things, a lot...</td>\n",
       "      <td>April 12, 2015</td>\n",
       "      <td>Video Remarks Announcing Candidacy for President</td>\n",
       "      <td>http://www.presidency.ucsb.edu/ws/index.php?pi...</td>\n",
       "    </tr>\n",
       "    <tr>\n",
       "      <th>1</th>\n",
       "      <td>CLINTON</td>\n",
       "      <td>[ ] : I'll be graduating in May, and on gradua...</td>\n",
       "      <td>April 14, 2015</td>\n",
       "      <td>Remarks in a Question and Answer Session at Ki...</td>\n",
       "      <td>http://www.presidency.ucsb.edu/ws/index.php?pi...</td>\n",
       "    </tr>\n",
       "    <tr>\n",
       "      <th>2</th>\n",
       "      <td>CLINTON</td>\n",
       "      <td>: Well, thank you all so much for inviting me ...</td>\n",
       "      <td>April 20, 2015</td>\n",
       "      <td>Remarks in Keene, New Hampshire</td>\n",
       "      <td>http://www.presidency.ucsb.edu/ws/index.php?pi...</td>\n",
       "    </tr>\n",
       "    <tr>\n",
       "      <th>3</th>\n",
       "      <td>CLINTON</td>\n",
       "      <td>Thank you so much. I am absolutely delighted t...</td>\n",
       "      <td>April 29, 2015</td>\n",
       "      <td>Address to the David N. Dinkins Leadership &amp; P...</td>\n",
       "      <td>http://www.presidency.ucsb.edu/ws/index.php?pi...</td>\n",
       "    </tr>\n",
       "    <tr>\n",
       "      <th>4</th>\n",
       "      <td>CLINTON</td>\n",
       "      <td>Oh, hello. Hi, how are you? Well, it's wonderf...</td>\n",
       "      <td>May 5, 2015</td>\n",
       "      <td>Remarks at a Roundtable with Young Nevada Resi...</td>\n",
       "      <td>http://www.presidency.ucsb.edu/ws/index.php?pi...</td>\n",
       "    </tr>\n",
       "  </tbody>\n",
       "</table>\n",
       "</div>"
      ],
      "text/plain": [
       "   speaker                                               text            date  \\\n",
       "0  CLINTON  : I'm getting ready for a lot of things, a lot...  April 12, 2015   \n",
       "1  CLINTON  [ ] : I'll be graduating in May, and on gradua...  April 14, 2015   \n",
       "2  CLINTON  : Well, thank you all so much for inviting me ...  April 20, 2015   \n",
       "3  CLINTON  Thank you so much. I am absolutely delighted t...  April 29, 2015   \n",
       "4  CLINTON  Oh, hello. Hi, how are you? Well, it's wonderf...     May 5, 2015   \n",
       "\n",
       "                                               descr  \\\n",
       "0   Video Remarks Announcing Candidacy for President   \n",
       "1  Remarks in a Question and Answer Session at Ki...   \n",
       "2                    Remarks in Keene, New Hampshire   \n",
       "3  Address to the David N. Dinkins Leadership & P...   \n",
       "4  Remarks at a Roundtable with Young Nevada Resi...   \n",
       "\n",
       "                                                link  \n",
       "0  http://www.presidency.ucsb.edu/ws/index.php?pi...  \n",
       "1  http://www.presidency.ucsb.edu/ws/index.php?pi...  \n",
       "2  http://www.presidency.ucsb.edu/ws/index.php?pi...  \n",
       "3  http://www.presidency.ucsb.edu/ws/index.php?pi...  \n",
       "4  http://www.presidency.ucsb.edu/ws/index.php?pi...  "
      ]
     },
     "execution_count": 12,
     "metadata": {},
     "output_type": "execute_result"
    }
   ],
   "source": [
    "# Partie 1 : Démarrage\n",
    "import pandas as pd\n",
    "from Classes import Document, NewsDocument, ArxivDocument\n",
    "from Corpus import Corpus ,DocumentFactory\n",
    "from datetime import datetime\n",
    "\n",
    "# 1.1 Charger le jeu de données avec des options supplémentaires\n",
    "df = pd.read_csv('discours_US.csv', delimiter='\\t', quotechar='\"', on_bad_lines='skip', encoding='utf-8')\n",
    "\n",
    "# Afficher les premières lignes du dataframe\n",
    "df.head()"
   ]
  },
  {
   "cell_type": "code",
   "execution_count": 13,
   "metadata": {},
   "outputs": [
    {
     "name": "stdout",
     "output_type": "stream",
     "text": [
      "speaker\n",
      "CLINTON    93\n",
      "TRUMP      71\n",
      "Name: count, dtype: int64\n"
     ]
    }
   ],
   "source": [
    "# 1.2 Vérifier la distribution des auteurs\n",
    "print(df['speaker'].value_counts())"
   ]
  },
  {
   "cell_type": "code",
   "execution_count": 27,
   "metadata": {},
   "outputs": [
    {
     "ename": "NameError",
     "evalue": "name 'DocumentFactory' is not defined",
     "output_type": "error",
     "traceback": [
      "\u001b[1;31m---------------------------------------------------------------------------\u001b[0m",
      "\u001b[1;31mNameError\u001b[0m                                 Traceback (most recent call last)",
      "Cell \u001b[1;32mIn[27], line 13\u001b[0m\n\u001b[0;32m     10\u001b[0m         \u001b[38;5;28;01mif\u001b[39;00m phrase\u001b[38;5;241m.\u001b[39mstrip():\n\u001b[0;32m     11\u001b[0m             \u001b[38;5;66;03m# Convertir la date au format correct\u001b[39;00m\n\u001b[0;32m     12\u001b[0m             date_str \u001b[38;5;241m=\u001b[39m datetime\u001b[38;5;241m.\u001b[39mstrptime(row[\u001b[38;5;124m'\u001b[39m\u001b[38;5;124mdate\u001b[39m\u001b[38;5;124m'\u001b[39m], \u001b[38;5;124m'\u001b[39m\u001b[38;5;124m%\u001b[39m\u001b[38;5;124mB \u001b[39m\u001b[38;5;132;01m%d\u001b[39;00m\u001b[38;5;124m, \u001b[39m\u001b[38;5;124m%\u001b[39m\u001b[38;5;124mY\u001b[39m\u001b[38;5;124m'\u001b[39m)\u001b[38;5;241m.\u001b[39mstrftime(\u001b[38;5;124m'\u001b[39m\u001b[38;5;124m%\u001b[39m\u001b[38;5;124mY/\u001b[39m\u001b[38;5;124m%\u001b[39m\u001b[38;5;124mm/\u001b[39m\u001b[38;5;132;01m%d\u001b[39;00m\u001b[38;5;124m'\u001b[39m)\n\u001b[1;32m---> 13\u001b[0m             doc \u001b[38;5;241m=\u001b[39m \u001b[43mDocumentFactory\u001b[49m\u001b[38;5;241m.\u001b[39mcreate_document(\u001b[38;5;124m\"\u001b[39m\u001b[38;5;124mNews\u001b[39m\u001b[38;5;124m\"\u001b[39m, row[\u001b[38;5;124m'\u001b[39m\u001b[38;5;124mdescr\u001b[39m\u001b[38;5;124m'\u001b[39m], row[\u001b[38;5;124m'\u001b[39m\u001b[38;5;124mspeaker\u001b[39m\u001b[38;5;124m'\u001b[39m], date_str, row[\u001b[38;5;124m'\u001b[39m\u001b[38;5;124mlink\u001b[39m\u001b[38;5;124m'\u001b[39m], phrase\u001b[38;5;241m.\u001b[39mstrip(), \u001b[38;5;124m\"\u001b[39m\u001b[38;5;124mLe Monde\u001b[39m\u001b[38;5;124m\"\u001b[39m)\n\u001b[0;32m     14\u001b[0m             corpus\u001b[38;5;241m.\u001b[39madd(doc)\n\u001b[0;32m     16\u001b[0m \u001b[38;5;66;03m# Afficher le nombre de documents dans le corpus\u001b[39;00m\n",
      "\u001b[1;31mNameError\u001b[0m: name 'DocumentFactory' is not defined"
     ]
    }
   ],
   "source": [
    "# 1.3 Créer un objet Corpus et ajouter les documents\n",
    "\n",
    "corpus = Corpus(\"Discours US\")\n",
    "\n",
    "# Ajouter les documents au corpus\n",
    "for index, row in df.iterrows():\n",
    "    discours = row['text']\n",
    "    phrases = discours.split('.')\n",
    "    for phrase in phrases:\n",
    "        if phrase.strip():\n",
    "            # Convertir la date au format correct\n",
    "            date_str = datetime.strptime(row['date'], '%B %d, %Y').strftime('%Y/%m/%d')\n",
    "            doc = DocumentFactory.create_document(\"News\", row['descr'], row['speaker'], date_str, row['link'], phrase.strip(), \"Le Monde\")\n",
    "            corpus.add(doc)\n",
    "\n",
    "# Afficher le nombre de documents dans le corpus\n",
    "print(f\"Nombre de documents dans le corpus : {corpus.ndoc}\")"
   ]
  },
  {
   "cell_type": "code",
   "execution_count": 26,
   "metadata": {},
   "outputs": [
    {
     "name": "stdout",
     "output_type": "stream",
     "text": [
      "[]\n",
      "[]\n"
     ]
    }
   ],
   "source": [
    "# 1.4 Tester les fonctions search et concorde\n",
    "print([doc.titre for doc in corpus.search('when')])\n",
    "print(corpus.concorde('when', context_size=30))"
   ]
  },
  {
   "cell_type": "code",
   "execution_count": 25,
   "metadata": {},
   "outputs": [
    {
     "ename": "AttributeError",
     "evalue": "'numpy.ndarray' object has no attribute 'toarray'",
     "output_type": "error",
     "traceback": [
      "\u001b[1;31m---------------------------------------------------------------------------\u001b[0m",
      "\u001b[1;31mAttributeError\u001b[0m                            Traceback (most recent call last)",
      "Cell \u001b[1;32mIn[25], line 8\u001b[0m\n\u001b[0;32m      5\u001b[0m search_engine \u001b[38;5;241m=\u001b[39m SearchEngine(corpus)\n\u001b[0;32m      7\u001b[0m \u001b[38;5;66;03m# 2.2 Tester la fonction search\u001b[39;00m\n\u001b[1;32m----> 8\u001b[0m results \u001b[38;5;241m=\u001b[39m \u001b[43msearch_engine\u001b[49m\u001b[38;5;241;43m.\u001b[39;49m\u001b[43msearch\u001b[49m\u001b[43m(\u001b[49m\u001b[38;5;124;43m'\u001b[39;49m\u001b[38;5;124;43mfreedom\u001b[39;49m\u001b[38;5;124;43m'\u001b[39;49m\u001b[43m,\u001b[49m\u001b[43m \u001b[49m\u001b[43mtop_n\u001b[49m\u001b[38;5;241;43m=\u001b[39;49m\u001b[38;5;241;43m10\u001b[39;49m\u001b[43m)\u001b[49m\n\u001b[0;32m     10\u001b[0m \u001b[38;5;66;03m# Convert results to dense array if they are sparse\u001b[39;00m\n\u001b[0;32m     11\u001b[0m \u001b[38;5;28;01mif\u001b[39;00m \u001b[38;5;28mhasattr\u001b[39m(results, \u001b[38;5;124m'\u001b[39m\u001b[38;5;124mtoarray\u001b[39m\u001b[38;5;124m'\u001b[39m):\n",
      "File \u001b[1;32mc:\\Users\\bilar\\Desktop\\Projet-Python\\V3\\SearchEngine.py:68\u001b[0m, in \u001b[0;36mSearchEngine.search\u001b[1;34m(self, query, top_n)\u001b[0m\n\u001b[0;32m     66\u001b[0m         query_vector[\u001b[38;5;28mself\u001b[39m\u001b[38;5;241m.\u001b[39mvocab[mot][\u001b[38;5;124m'\u001b[39m\u001b[38;5;124mindex\u001b[39m\u001b[38;5;124m'\u001b[39m]] \u001b[38;5;241m=\u001b[39m \u001b[38;5;241m1\u001b[39m\n\u001b[0;32m     67\u001b[0m query_vector \u001b[38;5;241m=\u001b[39m \u001b[38;5;28mself\u001b[39m\u001b[38;5;241m.\u001b[39mnormalize(query_vector)\n\u001b[1;32m---> 68\u001b[0m scores \u001b[38;5;241m=\u001b[39m \u001b[38;5;28;43mself\u001b[39;49m\u001b[38;5;241;43m.\u001b[39;49m\u001b[43mmat_TFxIDF\u001b[49m\u001b[38;5;241;43m.\u001b[39;49m\u001b[43mdot\u001b[49m\u001b[43m(\u001b[49m\u001b[43mquery_vector\u001b[49m\u001b[38;5;241;43m.\u001b[39;49m\u001b[43mT\u001b[49m\u001b[43m)\u001b[49m\u001b[38;5;241;43m.\u001b[39;49m\u001b[43mtoarray\u001b[49m()\u001b[38;5;241m.\u001b[39mflatten()\n\u001b[0;32m     69\u001b[0m top_indices \u001b[38;5;241m=\u001b[39m np\u001b[38;5;241m.\u001b[39margsort(scores)[::\u001b[38;5;241m-\u001b[39m\u001b[38;5;241m1\u001b[39m][:top_n]\n\u001b[0;32m     70\u001b[0m results \u001b[38;5;241m=\u001b[39m [(\u001b[38;5;28mself\u001b[39m\u001b[38;5;241m.\u001b[39mcorpus\u001b[38;5;241m.\u001b[39mid2doc[i \u001b[38;5;241m+\u001b[39m \u001b[38;5;241m1\u001b[39m], scores[i]) \u001b[38;5;28;01mfor\u001b[39;00m i \u001b[38;5;129;01min\u001b[39;00m top_indices]\n",
      "\u001b[1;31mAttributeError\u001b[0m: 'numpy.ndarray' object has no attribute 'toarray'"
     ]
    }
   ],
   "source": [
    "# Partie 2 : Utilisation de votre moteur de recherche\n",
    "from SearchEngine import SearchEngine\n",
    "\n",
    "# 2.1 Importer et initialiser la classe SearchEngine\n",
    "search_engine = SearchEngine(corpus)\n",
    "\n",
    "# 2.2 Tester la fonction search\n",
    "results = search_engine.search('freedom', top_n=10)\n",
    "\n",
    "# Convert results to dense array if they are sparse\n",
    "if hasattr(results, 'toarray'):\n",
    "\tresults = results.toarray()\n",
    "\n",
    "print(results)"
   ]
  }
 ],
 "metadata": {
  "kernelspec": {
   "display_name": "Python 3",
   "language": "python",
   "name": "python3"
  },
  "language_info": {
   "codemirror_mode": {
    "name": "ipython",
    "version": 3
   },
   "file_extension": ".py",
   "mimetype": "text/x-python",
   "name": "python",
   "nbconvert_exporter": "python",
   "pygments_lexer": "ipython3",
   "version": "3.10.10"
  }
 },
 "nbformat": 4,
 "nbformat_minor": 2
}
