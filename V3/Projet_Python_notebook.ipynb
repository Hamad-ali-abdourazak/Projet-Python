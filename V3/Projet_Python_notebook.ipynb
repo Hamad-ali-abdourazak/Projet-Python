{
 "cells": [
  {
   "cell_type": "markdown",
   "metadata": {},
   "source": [
    "# Partie 1 : Démarrage"
   ]
  },
  {
   "cell_type": "code",
   "execution_count": 1,
   "metadata": {},
   "outputs": [
    {
     "name": "stdout",
     "output_type": "stream",
     "text": [
      "speaker\n",
      "CLINTON    93\n",
      "TRUMP      71\n",
      "Name: count, dtype: int64\n",
      "Nombre de documents dans le corpus : 164\n",
      "Résultats de la recherche pour le mot 'freedom':\n",
      "[Document(titre=Remarks at Texas Southern University in Houston, auteur=CLINTON, date=2015/06/04, texte=Wow! Thank you so very much. I...), Document(titre=Remarks in a Campaign \\Kickoff\\\" Speech in New York City\", auteur=CLINTON, date=2015/06/13, texte=Thank you! Oh, thank you all! ...), Document(titre=Remarks and a Question and Answer Session at the Brookings Institution in Washington, DC, auteur=CLINTON, date=2015/09/09, texte=Thank you so much, Strobe. Tha...), Document(titre=Remarks and a Question and Answer Session at the Council on Foreign Relations in New York City, auteur=CLINTON, date=2015/11/19, texte=Thank you. Thank you very much...), Document(titre=Interview with Jake tapper of CNN's \\State of the Union\\\"\", auteur=CLINTON, date=2016/01/17, texte=We're joined right off the bat...), Document(titre=Remarks at the AIPAC Policy Conference in Washington, DC, auteur=TRUMP, date=2016/03/21, texte=Good evening. Thank you very m...), Document(titre=Remarks at the AIPAC Policy Conference in Washington, DC, auteur=CLINTON, date=2016/03/21, texte=Thank you so much. It is wonde...), Document(titre=Remarks in San Diego, California, auteur=CLINTON, date=2016/06/02, texte=Thank you, thank you so much. ...), Document(titre=Address Accepting the Presidential Nomination at the Republican National Convention in Cleveland, Ohio, auteur=TRUMP, date=2016/07/21, texte=Friends, delegates and fellow ...), Document(titre=Address Accepting the Presidential Nomination at the Democratic National Convention in Philadelphia, Pennsylvania, auteur=CLINTON, date=2016/07/28, texte=Thank you all very, very much!...), Document(titre=Remarks to the Detroit Economic Club, auteur=TRUMP, date=2016/08/08, texte=Thank you for the invitation t...), Document(titre=Remarks at Youngstown State University in Youngstown, Ohio, auteur=TRUMP, date=2016/08/15, texte=Thank you, everybody, thank yo...), Document(titre=Remarks at the Charlotte Convention Center in Charlotte, North Carolina, auteur=TRUMP, date=2016/08/18, texte=I'd like to take a moment to t...), Document(titre=Remarks at the Mississippi Coliseum in Jackson, Mississippi, auteur=TRUMP, date=2016/08/24, texte=Thank you, everybody. Thank yo...), Document(titre=Remarks at the XFinity Arena in Everett, Washington, auteur=TRUMP, date=2016/08/30, texte=Thank you. I am so thrilled to...), Document(titre=Remarks at the Roberts Centre in Wilmington, Ohio, auteur=TRUMP, date=2016/09/01, texte=It's so great to be back in Oh...), Document(titre=Remarks at the Cleveland Arts and Social Sciences Academy in Cleveland, Ohio, auteur=TRUMP, date=2016/09/08, texte=Thank you. It's great to be he...), Document(titre=Remarks to the 11th Annual Values Voter Summit in Washington, DC Omni Shoreham Hotel, Washington, D.C., auteur=TRUMP, date=2016/09/09, texte=Thank you. Thank you very much...), Document(titre=Address to the National Guard Association of the United States 138th General Conference & Exhibition at the Baltimore Convention Center in Baltimore, Maryland, auteur=TRUMP, date=2016/09/12, texte=Thank you. I am honored to be ...), Document(titre=Remarks at Seven Flags Event Center in Des Moines, Iowa, auteur=TRUMP, date=2016/09/13, texte=Thank you. It is so great to b...), Document(titre=Remarks at a Rally at the James L. Knight Center in Miami, Florida, auteur=TRUMP, date=2016/09/16, texte=Thank you. It is so great to b...), Document(titre=Remarks at the Frontline Outreach Center in Orlando, Florida, auteur=CLINTON, date=2016/09/21, texte=\\Hello, Orlando! Wow. Thank yo...), Document(titre=Remarks at the Suburban Collection Showplace in Novi, Michigan, auteur=TRUMP, date=2016/09/30, texte=I am going to fight so hard fo...), Document(titre=Debate between Trump and Clinton, auteur=CLINTON, date=2016/10/09, texte=Well, thank you. Are you a tea...), Document(titre=Remarks at Ohio State University in Columbus, auteur=CLINTON, date=2016/10/10, texte=\\It is a glorious night here a...), Document(titre=Remarks at the South Florida Fair Expo Center in West Palm Beach, Florida, auteur=TRUMP, date=2016/10/13, texte=Thank you, it is so great to b...), Document(titre=Remarks on Proposals for the First 100 Days in Office at the Eisenhower Complex in Gettysburg, Pennsylvania, auteur=TRUMP, date=2016/10/22, texte=Thank you. [ ] Thank you very ...), Document(titre=Remarks at Taylor Allderdice High School in Pittsburgh, Pennsylvania, auteur=CLINTON, date=2016/10/22, texte=\\Thank you! Thank you all so m...), Document(titre=Remarks at the Collier County Fairgrounds in Naples, Florida, auteur=TRUMP, date=2016/10/23, texte=Thank you. It's great to be ba...), Document(titre=Remarks at the Kent State Student Recreation Center in Kent, Ohio, auteur=CLINTON, date=2016/10/31, texte=Hello, Kent State! And Happy H...), Document(titre=Remarks at Smale Riverfront Park in Cincinnati, Ohio, auteur=CLINTON, date=2016/10/31, texte=\\Thank you so much! Wow, it is...), Document(titre=Remarks at Pitt Community College in Winterville, North Carolina, auteur=CLINTON, date=2016/11/03, texte=Thank you so much, wow, it is ...), Document(titre=Remarks at Coastal Credit Union Music Park in Raleigh, North Carolina, auteur=CLINTON, date=2016/11/03, texte=Thank you. Wow! Thank you all....), Document(titre=Remarks at Eastern Market in Detroit, Michigan, auteur=CLINTON, date=2016/11/04, texte=Hello Detroit! Thank you! I'll...), Document(titre=Remarks at Grand Valley State University in Grand Rapids, Michigan, auteur=CLINTON, date=2016/11/07, texte=Hello Grand Valley! Thank you!...), Document(titre=Remarks in New York City Conceding the 2016 Presidential Election, auteur=CLINTON, date=2016/11/09, texte=My wife, Anne, and I are so pr...)]\n",
      "\n",
      "Concordances pour le mot 'freedom':\n",
      "                   contexte gauche  \\\n",
      "0   nd marched and organized and p   \n",
      "1   s diversity, our openness, our   \n",
      "2    its detention of political pr   \n",
      "3   ive our own troops advising an   \n",
      "4   backed by Russia, against a gr   \n",
      "5    Nations is not a friend of de   \n",
      "6   ilt by immigrants and exiles s   \n",
      "7   we see our own and the story o   \n",
      "8   en coming to our country doesn   \n",
      "9   ething special, not just to us   \n",
      "10  de agreement that hurts our wo   \n",
      "11  he most innovative entrepreneu   \n",
      "12  orts the education policies th   \n",
      "13  resident Ronald Reagan repeate   \n",
      "14  replace this disaster with ref   \n",
      "15  nton policies have sacrificed    \n",
      "16  country of great jobs and weal   \n",
      "17  ognizes the right of inner-cit   \n",
      "18   the Republican Party is the P   \n",
      "19  and we will keep America out o   \n",
      "20  merica who is today trapped in   \n",
      "21  ealth care, which would be a d   \n",
      "22   America that is trapped in a    \n",
      "23  of the National Guard have sac   \n",
      "24   a plan to provide every disad   \n",
      "25   a plan to provide every disad   \n",
      "26  demands. Those demands will in   \n",
      "27  earning to be free. Here, in A   \n",
      "28  y're veterans whose service an   \n",
      "29  . Hillary Clinton is a globali   \n",
      "30  . How do you do that? We are a   \n",
      "31   remain energy-independent. It   \n",
      "32  could come into our country –    \n",
      "33  l interests who have betrayed    \n",
      "34  allowed ground where so many l   \n",
      "35  t for people at our borders, a   \n",
      "36   the Castro regime in Cuba, an   \n",
      "37  mericans – basic beliefs about   \n",
      "38  to keep widening the circle of   \n",
      "39  s campaign. In a country that    \n",
      "40  that we want to keep moving po   \n",
      "41  g to the United States. Our co   \n",
      "42  ntry, about whether we really    \n",
      "43  it the United States. We are a   \n",
      "44   now, my grandkids. Are we rea   \n",
      "45   look at us with yearning. The   \n",
      "46   the principle that we are all   \n",
      "\n",
      "                                         motif trouvé  \\\n",
      "0   rayed to expand the circle of freedom and oppo...   \n",
      "1    devotion to human rights and freedom is what'...   \n",
      "2   isoners, to its crack down on freedom of expre...   \n",
      "3   d training the Iraqis greater freedom of movem...   \n",
      "4   oup of people who wanted more freedom, wanted ...   \n",
      "5   mocracy, it's not a friend to freedom, it's no...   \n",
      "6   eeking to live and worship in freedom, nations...   \n",
      "7   f all people who struggle for freedom and self...   \n",
      "8   't just violate the religious freedom our coun...   \n",
      "9   , to the world. It represents freedom and hope...   \n",
      "10  rkers, or that diminishes our freedom and inde...   \n",
      "11  rs, the most enduring values, freedom and equa...   \n",
      "12  at deny your students choice, freedom and oppo...   \n",
      "13  dly touted the superiority of freedom over com...   \n",
      "14  orms that give you choice and freedom and cont...   \n",
      "15  our safety and undermined our freedom and inde...   \n",
      "16  th, a country of security and freedom, a count...   \n",
      "17  y residents to enjoy the same freedom from fea...   \n",
      "18  arty of Lincoln, the party of freedom, equalit...   \n",
      "19  f the TPP. We will defend our freedom, our job...   \n",
      "20   a failing school to have the freedom – the ci...   \n",
      "21  isaster for the liberties and freedoms of all ...   \n",
      "22  failing government school the freedom to atten...   \n",
      "23  rificed life and limb for our freedom, our saf...   \n",
      "24  vantaged child in America the freedom to choos...   \n",
      "25  vantaged child in America the freedom to choos...   \n",
      "26  clude religious and political freedom for the ...   \n",
      "27  merica, I will push to expand freedom for all ...   \n",
      "28  d sacrifice has protected our freedom and kept...   \n",
      "29  st who will never protect the freedom and jobs...   \n",
      "30   country founded on religious freedom and libe...   \n",
      "31   gives us much more power and freedom than to ...   \n",
      "32  a nation founded on religious freedom and libe...   \n",
      "33  our workers, our borders, our freedoms, and ou...   \n",
      "34  ives were given in service to freedom. Amazing...   \n",
      "35   country founded on religious freedom. You hav...   \n",
      "36  d standing in solidarity with freedom-loving p...   \n",
      "37   equality and opportunity and freedom and comm...   \n",
      "38   opportunity and equality and freedom is unlik...   \n",
      "39  values, religious liberty and freedom. Someone...   \n",
      "40  sitively toward the vision of freedom and equa...   \n",
      "41  untry is founded on religious freedom. It is o...   \n",
      "42  are a nation that believes in freedom and just...   \n",
      "43   country founded on religious freedom. That ru...   \n",
      "44  lly a nation that believes in freedom and just...   \n",
      "45  y see that we are a beacon of freedom, hope an...   \n",
      "46   equal in rights and dignity, freedom of worsh...   \n",
      "\n",
      "                    contexte droit  \n",
      "0   ave up and never backed down.   \n",
      "1   r shores. What's inspired peop  \n",
      "2   ne. Its inhumane policies hold  \n",
      "3   including embedding in local u  \n",
      "4   ot the continuing oppression f  \n",
      "5   e United States of America; wh  \n",
      "6   of equality, tolerance and plu  \n",
      "7   's so many examples. You know,  \n",
      "8   t's also a huge propaganda vic  \n",
      "9   ove this country and I know yo  \n",
      "10  r, ever sign bad trade deals.   \n",
      "11  ortunity, we should be so prou  \n",
      "12  andidate of the past. Ours is   \n",
      "13   USSR the Evil Empire. Yet whe  \n",
      "14  t a much lower cost. On politi  \n",
      "15  ve moved to other countries. I  \n",
      "16  ity. The future is limitless.   \n",
      "17  erica now takes for granted.\\\"  \n",
      "18   is the Democratic Party that   \n",
      "19  ndependence. It's going to be   \n",
      "20   the school of their choice. T  \n",
      "21  she wants. That's what she's a  \n",
      "22   choice. Competition – the sch  \n",
      "23  We will never forget our heroe  \n",
      "24  , magnet or religious school o  \n",
      "25  , magnet or religious school o  \n",
      "26  lso talk about Venezuela. Vene  \n",
      "27  oing to lower you taxes; I am   \n",
      "28  ey're working in the White Hou  \n",
      "29  le. I am not running to be Pre  \n",
      "30  t he has advocated without cau  \n",
      "31   goes on in the Middle East. W  \n",
      "32  the clock back, not just a few  \n",
      "33   a nation. We will end the pol  \n",
      "34  coln served at a time of divis  \n",
      "35  o is going to conduct the test  \n",
      "36  d across Latin America living   \n",
      "37  mething to defend – and to bui  \n",
      "38  the history of the world. So w  \n",
      "39  Muslim in the world from ever   \n",
      "40   founders -- do any of us have  \n",
      "41  ant building blocks of our dem  \n",
      "42  n, despite the progress we've   \n",
      "43  nstitution. We would have a pr  \n",
      "44  e really a nation that recogni  \n",
      "45  ple, right here, at home. When  \n",
      "46   respect and cherish these val  \n"
     ]
    }
   ],
   "source": [
    "import pandas as pd\n",
    "import sys\n",
    "from datetime import datetime\n",
    "from Corpus import Document, Author, DocumentFactory, Corpus, SearchEngine\n",
    "import ipywidgets as widgets\n",
    "from IPython.display import display, clear_output\n",
    "from tqdm.notebook import tqdm\n",
    "\n",
    "#  chemin du répertoire contenant les modules\n",
    "sys.path.append('../V3')\n",
    "\n",
    "# 1.1 Charger le jeu de données\n",
    "df = pd.read_csv('discours_US.csv', delimiter='\\t')\n",
    "\n",
    "# 1.2 Vérifier la distribution des auteurs\n",
    "print(df['speaker'].value_counts())\n",
    "\n",
    "# 1.3 Créer un objet Corpus et ajouter les documents\n",
    "corpus = Corpus(\"Discours US\")\n",
    "\n",
    "# Ajouter les documents au corpus\n",
    "for index, row in df.iterrows():\n",
    "    doc = DocumentFactory.create_document(row)\n",
    "    corpus.add(doc)\n",
    "\n",
    "# le nombre de documents dans le corpus\n",
    "print(f\"Nombre de documents dans le corpus : {corpus.ndoc}\")\n",
    "\n",
    "# 1.4 Tester les fonctions search et concorde\n",
    "print(\"Résultats de la recherche pour le mot 'freedom':\")\n",
    "print(corpus.search(\"freedom\"))\n",
    "\n",
    "print(\"\\nConcordances pour le mot 'freedom':\")\n",
    "print(corpus.concorde(\"freedom\", context_size=30))"
   ]
  },
  {
   "cell_type": "markdown",
   "metadata": {},
   "source": [
    "# Partie 2 :  moteur de recherche"
   ]
  },
  {
   "cell_type": "code",
   "execution_count": 2,
   "metadata": {},
   "outputs": [
    {
     "name": "stdout",
     "output_type": "stream",
     "text": [
      "Résultats de la recherche pour le mot 'freedom' avec le moteur de recherche:\n",
      "[Document(titre=Remarks at Texas Southern University in Houston, auteur=CLINTON, date=2015/06/04, texte=Wow! Thank you so very much. I...), Document(titre=Remarks in a Campaign \\Kickoff\\\" Speech in New York City\", auteur=CLINTON, date=2015/06/13, texte=Thank you! Oh, thank you all! ...), Document(titre=Remarks and a Question and Answer Session at the Brookings Institution in Washington, DC, auteur=CLINTON, date=2015/09/09, texte=Thank you so much, Strobe. Tha...), Document(titre=Remarks and a Question and Answer Session at the Council on Foreign Relations in New York City, auteur=CLINTON, date=2015/11/19, texte=Thank you. Thank you very much...), Document(titre=Interview with Jake tapper of CNN's \\State of the Union\\\"\", auteur=CLINTON, date=2016/01/17, texte=We're joined right off the bat...), Document(titre=Remarks at the AIPAC Policy Conference in Washington, DC, auteur=TRUMP, date=2016/03/21, texte=Good evening. Thank you very m...), Document(titre=Remarks at the AIPAC Policy Conference in Washington, DC, auteur=CLINTON, date=2016/03/21, texte=Thank you so much. It is wonde...), Document(titre=Remarks in San Diego, California, auteur=CLINTON, date=2016/06/02, texte=Thank you, thank you so much. ...), Document(titre=Address Accepting the Presidential Nomination at the Republican National Convention in Cleveland, Ohio, auteur=TRUMP, date=2016/07/21, texte=Friends, delegates and fellow ...), Document(titre=Address Accepting the Presidential Nomination at the Democratic National Convention in Philadelphia, Pennsylvania, auteur=CLINTON, date=2016/07/28, texte=Thank you all very, very much!...)]\n"
     ]
    }
   ],
   "source": [
    "from Corpus import SearchEngine\n",
    "\n",
    "# 2.1 Importer et initialiser la classe SearchEngine\n",
    "search_engine = SearchEngine(corpus)\n",
    "\n",
    "# 2.2 Tester la fonction search\n",
    "print(\"Résultats de la recherche pour le mot 'freedom' avec le moteur de recherche:\")\n",
    "print(search_engine.search(\"freedom\", top_n=10))"
   ]
  },
  {
   "cell_type": "markdown",
   "metadata": {},
   "source": [
    "# Partie 3 : Petite interface"
   ]
  },
  {
   "cell_type": "code",
   "execution_count": 4,
   "metadata": {},
   "outputs": [
    {
     "data": {
      "application/vnd.jupyter.widget-view+json": {
       "model_id": "79b7c93cce574fe6b27bba2c5050343e",
       "version_major": 2,
       "version_minor": 0
      },
      "text/plain": [
       "VBox(children=(Label(value='Moteur de recherche de discours US'), Text(value='', description='Mots-clés:'), In…"
      ]
     },
     "metadata": {},
     "output_type": "display_data"
    },
    {
     "data": {
      "application/vnd.jupyter.widget-view+json": {
       "model_id": "965d65b63e184cb582ea6e9cd4fce9d7",
       "version_major": 2,
       "version_minor": 0
      },
      "text/plain": [
       "Output()"
      ]
     },
     "metadata": {},
     "output_type": "display_data"
    },
    {
     "data": {
      "application/vnd.jupyter.widget-view+json": {
       "model_id": "a741cce5afb24751bc2bcdb2c7843c89",
       "version_major": 2,
       "version_minor": 0
      },
      "text/plain": [
       "Button(description='Rechercher', style=ButtonStyle())"
      ]
     },
     "metadata": {},
     "output_type": "display_data"
    }
   ],
   "source": [
    "import ipywidgets as widgets\n",
    "from IPython.display import display\n",
    "\n",
    "# Créer les widgets\n",
    "label = widgets.Label(value=\"Moteur de recherche de discours US\")\n",
    "text_input = widgets.Text(description=\"Mots-clés:\")\n",
    "int_slider = widgets.IntSlider(description=\"Nombre de documents:\", min=1, max=20, value=10)\n",
    "\n",
    "# Afficher les widgets\n",
    "vbox = widgets.VBox([label, text_input, int_slider])\n",
    "display(vbox)\n",
    "\n",
    "#  un objet Output pour afficher les résultats\n",
    "output = widgets.Output()\n",
    "display(output)\n",
    "\n",
    "# bouton pour déclencher la recherche\n",
    "button = widgets.Button(description=\"Rechercher\")\n",
    "display(button)\n",
    "\n",
    "#  la fonction de recherche\n",
    "def on_button_clicked(b):\n",
    "    with output:\n",
    "        clear_output()\n",
    "        query = text_input.value\n",
    "        top_n = int_slider.value\n",
    "        results = search_engine.search(query, top_n=top_n)\n",
    "        for result in results:\n",
    "            print(result)\n",
    "\n",
    "button.on_click(on_button_clicked)\n",
    "\n",
    "# Tester l'interface\n",
    "#  le nombre de documents à retourner"
   ]
  },
  {
   "cell_type": "markdown",
   "metadata": {},
   "source": [
    "# Analyse comparative et temporelle"
   ]
  },
  {
   "cell_type": "code",
   "execution_count": 6,
   "metadata": {},
   "outputs": [
    {
     "name": "stdout",
     "output_type": "stream",
     "text": [
      "Common: set()\n",
      "Specific to corpus1: set()\n",
      "Specific to corpus2: set()\n",
      "{'2015/04/12': 1, '2015/04/14': 1, '2015/04/20': 1, '2015/05/05': 1, '2015/05/18': 1, '2015/05/19': 1, '2015/05/20': 1, '2015/05/27': 1, '2015/06/04': 1, '2015/06/13': 1, '2015/06/15': 1, '2015/06/16': 1, '2015/07/12': 1, '2015/07/13': 1, '2015/09/09': 1, '2015/09/17': 1, '2015/09/20': 1, '2015/09/27': 1, '2015/10/04': 1, '2015/10/16': 1, '2015/10/18': 1, '2015/11/19': 1, '2015/12/01': 1, '2015/12/06': 1, '2015/12/15': 1, '2015/12/29': 1, '2016/01/05': 1, '2016/01/10': 1, '2016/01/13': 1, '2016/01/17': 2, '2016/01/24': 1, '2016/01/26': 1, '2016/01/27': 1, '2016/01/31': 1, '2016/02/01': 2, '2016/02/02': 2, '2016/02/03': 1, '2016/02/07': 2, '2016/02/08': 1, '2016/03/21': 2, '2016/06/02': 1, '2016/06/13': 1, '2016/06/22': 1, '2016/07/16': 1, '2016/07/21': 1, '2016/07/27': 1, '2016/07/28': 1, '2016/08/05': 1, '2016/08/08': 1, '2016/08/09': 1, '2016/08/15': 1, '2016/08/19': 1, '2016/08/24': 1, '2016/08/31': 1, '2016/09/01': 1, '2016/09/09': 1, '2016/09/12': 2, '2016/09/15': 2, '2016/09/16': 1, '2016/09/18': 1, '2016/09/19': 1, '2016/09/21': 1, '2016/09/26': 2, '2016/09/27': 1, '2016/09/28': 1, '2016/09/29': 1, '2016/09/30': 2, '2016/10/02': 1, '2016/10/03': 2, '2016/10/09': 2, '2016/10/10': 1, '2016/10/11': 1, '2016/10/13': 1, '2016/10/15': 1, '2016/10/19': 2, '2016/10/20': 1, '2016/10/21': 1, '2016/10/22': 3, '2016/10/24': 1, '2016/10/25': 1, '2016/10/26': 1, '2016/10/27': 1, '2016/10/29': 3, '2016/10/30': 1, '2016/10/31': 2, '2016/11/01': 1, '2016/11/03': 3, '2016/11/04': 1, '2016/11/07': 3, '2016/11/09': 2}\n"
     ]
    }
   ],
   "source": [
    "#  fonction pour comparer deux corpus\n",
    "def compare_corpora(corpus1, corpus2, query):\n",
    "    results1 = corpus1.search(query)\n",
    "    results2 = corpus2.search(query)\n",
    "    common = set([doc.texte for doc in results1]) & set([doc.texte for doc in results2])\n",
    "    specific1 = set([doc.texte for doc in results1]) - common\n",
    "    specific2 = set([doc.texte for doc in results2]) - common\n",
    "    return common, specific1, specific2\n",
    "\n",
    "# Exemple d'utilisation\n",
    "corpus1 = Corpus('Corpus 1')\n",
    "corpus2 = Corpus('Corpus 2')\n",
    "# Ajout des documents aux corpus1 et corpus2\n",
    "# \n",
    "common, specific1, specific2 = compare_corpora(corpus1, corpus2, 'president')\n",
    "print(\"Common:\", common)\n",
    "print(\"Specifique a corpus1:\", specific1)\n",
    "print(\"Specifique a corpus2:\", specific2)\n",
    "\n",
    "#  fonction pour analyser l'évolution temporelle d'un mot\n",
    "def temporal_analysis(corpus, query):\n",
    "    results = corpus.search(query)\n",
    "    date_counts = {}\n",
    "    for doc in results:\n",
    "        date = doc.date.split('-')[0]  #",
    "        if date not in date_counts:\n",
    "            date_counts[date] = 0\n",
    "        date_counts[date] += 1\n",
    "    return date_counts\n",
    "\n",
    "# Exemple d'utilisation\n",
    "date_counts = temporal_analysis(corpus, 'president')\n",
    "print(date_counts)"
   ]
  }
 ],
 "metadata": {
  "kernelspec": {
   "display_name": "Python 3",
   "language": "python",
   "name": "python3"
  },
  "language_info": {
   "codemirror_mode": {
    "name": "ipython",
    "version": 3
   },
   "file_extension": ".py",
   "mimetype": "text/x-python",
   "name": "python",
   "nbconvert_exporter": "python",
   "pygments_lexer": "ipython3",
   "version": "3.10.10"
  }
 },
 "nbformat": 4,
 "nbformat_minor": 5
}
